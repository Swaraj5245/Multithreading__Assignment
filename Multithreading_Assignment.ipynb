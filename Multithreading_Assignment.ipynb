{
 "cells": [
  {
   "cell_type": "markdown",
   "id": "176902fe-1e5e-4e5e-b22d-5d973e517eba",
   "metadata": {},
   "source": [
    "### Q.1 what is multithreading in python? why is it used? Name the module used to handle threads in python"
   ]
  },
  {
   "cell_type": "markdown",
   "id": "ecd0f71d-c247-4c4c-80c5-216b39625c34",
   "metadata": {},
   "source": [
    "In python Multithreading(comes with threading module) runs the programe in a single core or same core, share same memory space. Each thread represent a seprete control flow & it provide a\n",
    "parallel excecution of a time.  \n",
    "It is used to perform task in a parallel or in a single process  \n",
    "Ex:Task like downloading multiple files.  \n",
    "\n",
    "**threading** module is used to handle threads in python . its a Python build-in module which, before performing task with thread, we have to import it. it is suited for I/O tasks, threading is a lighweight.  \n",
    "\n",
    "**Example:**"
   ]
  },
  {
   "cell_type": "code",
   "execution_count": 4,
   "id": "ddca5eb1-0d3e-4dfb-8bfb-523374063105",
   "metadata": {},
   "outputs": [
    {
     "name": "stdout",
     "output_type": "stream",
     "text": [
      "0\n",
      "1\n",
      "4\n",
      "9\n",
      "16\n",
      "25\n"
     ]
    }
   ],
   "source": [
    "import threading \n",
    "\n",
    "#creating a function which prints the square of a number\n",
    "def square(n):\n",
    "    print(n**2)\n",
    "    \n",
    "#creating a thread\n",
    "thread=[threading.Thread(target=square,args=(i,)) for i in range(6)]\n",
    "for i in thread:\n",
    "    i.start()\n",
    "for i in thread:\n",
    "    i.join()"
   ]
  },
  {
   "cell_type": "markdown",
   "id": "8a23ea8f-0fc7-4b92-9c10-7bf7e213b588",
   "metadata": {},
   "source": [
    "### Q.2 why threading module used? write the use of the following functions\n",
    " 1. activeCount()\n",
    " 2. currentThread()\n",
    " 3. enumerate()"
   ]
  },
  {
   "cell_type": "markdown",
   "id": "7334f606-8373-403f-ba7a-710bc82235b2",
   "metadata": {},
   "source": [
    "threading is a python build-in module. it is used to perform task in a parallel, & in a single process. it is best suited for I/O Tasks. The Global Interpreter Lock (GIL) allows only one thread to execute Python bytecode at a time in a single process.\n",
    "\n",
    "**activeCount():** This function return the number of alive threading object for a moment until it got terminated. So, it is used to know how many threading is currently alive.\n",
    "\n",
    "**Example:**"
   ]
  },
  {
   "cell_type": "code",
   "execution_count": 3,
   "id": "3156e341-79c1-48f3-ac5b-786e92554b90",
   "metadata": {},
   "outputs": [
    {
     "name": "stdout",
     "output_type": "stream",
     "text": [
      "thread 1\n",
      "thread 2\n",
      "active threads are: 8\n"
     ]
    },
    {
     "name": "stderr",
     "output_type": "stream",
     "text": [
      "/tmp/ipykernel_91/1372722588.py:8: DeprecationWarning: activeCount() is deprecated, use active_count() instead\n",
      "  print(\"active threads are:\", threading.activeCount())\n"
     ]
    }
   ],
   "source": [
    "import threading\n",
    "\n",
    "thread1 = threading.Thread(target=lambda: print(\"thread 1\"))\n",
    "thread2 = threading.Thread(target=lambda: print(\"thread 2\"))\n",
    "thread1.start()\n",
    "thread2.start()\n",
    "\n",
    "print(\"active threads are:\", threading.activeCount())"
   ]
  },
  {
   "cell_type": "markdown",
   "id": "fd021f16-fa43-4233-8011-a1e171b9308e",
   "metadata": {},
   "source": [
    "**currentThread():** currentThreads are used to find which thread is currently active.  Example: Suppose in any programe if there is muliple thread, and in that programe if we want to know which thread is currently active we can find it with **currentThread()** function.  \n",
    "\n",
    "**Example:**"
   ]
  },
  {
   "cell_type": "code",
   "execution_count": 3,
   "id": "d73db140-e1ef-4e1c-a461-d87d939de506",
   "metadata": {},
   "outputs": [
    {
     "name": "stdout",
     "output_type": "stream",
     "text": [
      "Current thread name: Thread-7 (current_thread_name)\n",
      "Main thread name: MainThread\n"
     ]
    }
   ],
   "source": [
    "import threading\n",
    "\n",
    "def current_thread_name():\n",
    "    current_thread = threading.current_thread()\n",
    "    print(\"Current thread name:\", current_thread.name)\n",
    "\n",
    "thread1 = threading.Thread(target=current_thread_name)\n",
    "\n",
    "thread1.start()\n",
    "\n",
    "main_thread = threading.current_thread()\n",
    "print(\"Main thread name:\", main_thread.name)\n"
   ]
  },
  {
   "cell_type": "markdown",
   "id": "1383f380-8c29-40a9-b784-59e9dbdb25a4",
   "metadata": {},
   "source": [
    "**enumerate():** This function return the list of all alive threads including currentThread() and all other threads.  \n",
    "\n",
    "**Example:**"
   ]
  },
  {
   "cell_type": "code",
   "execution_count": 5,
   "id": "9d2bf2b5-8c8d-4b45-bb80-a2e724f60ff0",
   "metadata": {},
   "outputs": [
    {
     "name": "stdout",
     "output_type": "stream",
     "text": [
      "Worker thread Thread-11 (worker) is done.\n",
      "Worker thread Thread-13 (worker) is done.\n",
      "Worker thread Thread-12 (worker) is done.\n",
      "Alive threads: [<_MainThread(MainThread, started 139847632406336)>, <Thread(IOPub, started daemon 139847490598464)>, <Heartbeat(Heartbeat, started daemon 139847482205760)>, <Thread(Thread-3 (_watch_pipe_fd), started daemon 139847457027648)>, <Thread(Thread-4 (_watch_pipe_fd), started daemon 139847448634944)>, <ControlThread(Control, started daemon 139847440242240)>, <HistorySavingThread(IPythonHistorySavingThread, started 139847087945280)>, <ParentPollerUnix(Thread-2, started daemon 139847079552576)>]\n"
     ]
    },
    {
     "name": "stderr",
     "output_type": "stream",
     "text": [
      "/tmp/ipykernel_109/2479773634.py:6: DeprecationWarning: currentThread() is deprecated, use current_thread() instead\n",
      "  print(f\"Worker thread {threading.currentThread().name} is done.\")\n"
     ]
    }
   ],
   "source": [
    "import threading\n",
    "import time\n",
    "\n",
    "def worker():\n",
    "    time.sleep(2)\n",
    "    print(f\"Worker thread {threading.currentThread().name} is done.\")\n",
    "\n",
    "threads = [threading.Thread(target=worker) for _ in range(3)]\n",
    "for thread in threads:\n",
    "    thread.start()\n",
    "\n",
    "\n",
    "for thread in threads:\n",
    "    thread.join()\n",
    "\n",
    "all_threads = threading.enumerate()\n",
    "print(\"Alive threads:\", all_threads)"
   ]
  },
  {
   "cell_type": "markdown",
   "id": "fcb04c41-ea74-41af-b590-b073e3494785",
   "metadata": {},
   "source": [
    "### Q.3 Explain the following functions\n",
    "1. run()\n",
    "2. start()\n",
    "3. join()\n",
    "4. isAlive()"
   ]
  },
  {
   "cell_type": "markdown",
   "id": "f4444231-f87b-46c5-b0e6-43f7a1775bdc",
   "metadata": {},
   "source": [
    "**run():** the run() is get excuted when we start() the thread. we overide the run() function to our class for giving some extra message or perform operation.  \n",
    "\n",
    "**Example:**"
   ]
  },
  {
   "cell_type": "code",
   "execution_count": 1,
   "id": "9df1cb7d-4823-418c-afb3-84b12f7ce09f",
   "metadata": {},
   "outputs": [
    {
     "name": "stdout",
     "output_type": "stream",
     "text": [
      "Hey Python Programming!\n"
     ]
    }
   ],
   "source": [
    "import threading\n",
    "\n",
    "class MyThread(threading.Thread):\n",
    "    def run(self):\n",
    "        print(\"Hey Python Programming!\")\n",
    "\n",
    "my_thread = MyThread()\n",
    "my_thread.start()"
   ]
  },
  {
   "cell_type": "markdown",
   "id": "bf474500-ce2c-4f1a-b56d-540671d41ab3",
   "metadata": {},
   "source": [
    "**start():** The start() function is used to start the thread when it called. its a method of threading class.  \n",
    "\n",
    "**Example:**"
   ]
  },
  {
   "cell_type": "code",
   "execution_count": 2,
   "id": "ce3417ae-3745-45cd-9e72-9998dfd46201",
   "metadata": {},
   "outputs": [
    {
     "name": "stdout",
     "output_type": "stream",
     "text": [
      "16\n"
     ]
    }
   ],
   "source": [
    "def square(n):\n",
    "    print(n**2)\n",
    "    \n",
    "thread=threading.Thread(target=square, args=(4,))\n",
    "thread.start()"
   ]
  },
  {
   "cell_type": "markdown",
   "id": "fed3c6ce-26ae-4939-bb7b-9276e77b31a1",
   "metadata": {},
   "source": [
    "**join():** the join() method is method of threading class. it wait to finish the thread before it go to the next statement of a code.  \n",
    "\n",
    "**Example:**"
   ]
  },
  {
   "cell_type": "code",
   "execution_count": 3,
   "id": "cfaf1b1c-987c-408d-b5c4-e4569a77fd5d",
   "metadata": {},
   "outputs": [
    {
     "name": "stdout",
     "output_type": "stream",
     "text": [
      "64\n"
     ]
    }
   ],
   "source": [
    "import threading\n",
    "def cube(n):\n",
    "    print(n**3)\n",
    "    \n",
    "thread=threading.Thread(target=cube, args=(4,))\n",
    "thread.start()"
   ]
  },
  {
   "cell_type": "markdown",
   "id": "16f3a43c-6ba5-4a89-a15a-388ba40563a1",
   "metadata": {},
   "source": [
    "**isAlive():** The isAlive() method returns True if the thread is currently executing (alive), and False otherwise. It can be used to check whether a thread is still running.  \n",
    "\n",
    "**Example:**"
   ]
  },
  {
   "cell_type": "code",
   "execution_count": 6,
   "id": "e6020198-91df-45c9-b460-ec8be17f0b5b",
   "metadata": {},
   "outputs": [
    {
     "name": "stdout",
     "output_type": "stream",
     "text": [
      "Thread alive? True\n",
      "Thread alive? False\n"
     ]
    }
   ],
   "source": [
    "import threading\n",
    "import time\n",
    "\n",
    "def func():\n",
    "    time.sleep(3)\n",
    "\n",
    "thread1 = threading.Thread(target=func)\n",
    "thread1.start()\n",
    "\n",
    "print(\"Thread alive?\", thread1.is_alive())\n",
    "\n",
    "thread1.join()\n",
    "print(\"Thread alive?\", thread1.is_alive())"
   ]
  },
  {
   "cell_type": "markdown",
   "id": "65fdeaca-a55b-4a4b-bb6e-6cd7ce660402",
   "metadata": {},
   "source": [
    "### Q4. write a python program to create two threads. Thread one must print the list of squares and thread two must print the list of cubes"
   ]
  },
  {
   "cell_type": "code",
   "execution_count": 31,
   "id": "d3db26e1-2e41-46b8-9f3f-c675aed877db",
   "metadata": {},
   "outputs": [
    {
     "name": "stdout",
     "output_type": "stream",
     "text": [
      "List of squares: [0, 1, 4, 9, 16, 25, 36, 49, 64, 81, 100]\n",
      "List of cubes: [0, 1, 8, 27, 64, 125, 216, 343, 512, 729, 1000]\n"
     ]
    }
   ],
   "source": [
    "import threading\n",
    "\n",
    "l = [i for i in range(11)]\n",
    "\n",
    "\n",
    "def squares(n):\n",
    "    return n**2\n",
    "\n",
    "def cubes(n):\n",
    "    return n**3\n",
    "\n",
    "\n",
    "thread1 = [threading.Thread(target=squares, args=(i,)) for i in l]\n",
    "thread2 = [threading.Thread(target=cubes, args=(i,)) for i in l]\n",
    "\n",
    "result1 = []\n",
    "result2 = []\n",
    "\n",
    "for i in thread1:\n",
    "    i.start()\n",
    "\n",
    "for i in thread2:\n",
    "    i.start()\n",
    "\n",
    "for i, thread in enumerate(thread1):\n",
    "    thread.join()\n",
    "    result1.append(squares(l[i]))\n",
    "\n",
    "for i, thread in enumerate(thread2):\n",
    "    thread.join()\n",
    "    result2.append(cubes(l[i]))\n",
    "\n",
    "print(\"List of squares:\", result1)\n",
    "print(\"List of cubes:\", result2)"
   ]
  },
  {
   "cell_type": "markdown",
   "id": "a88b4f8c-b0ca-4f3f-9718-e9a2a2e4d47a",
   "metadata": {},
   "source": [
    "### Q5. State advantages and disadvantages of multithreading"
   ]
  },
  {
   "cell_type": "markdown",
   "id": "e9946d9f-5775-4fad-b8f0-da42d284c3fe",
   "metadata": {},
   "source": [
    "#### Advantage\n",
    "\n",
    "1. Through multithreading we can perform multiple task in a parallel. Ex: can download multiple file.\n",
    "2. Thread within the same process can share resouces with each other.\n",
    "3. Multithreading allows for the modular design of programs. Different threads can focus on specific tasks or components.\n",
    "4. Multithreading can enhance the responsiveness of an application, especially in user interfaces. While one thread is busy with a task, other threads can continue to respond to user input or perform background tasks.\n",
    "\n",
    "#### Disadvantage\n",
    "\n",
    "1. Multithreading is most effective for tasks that can be parallelized. Some algorithms or processes may not benefit significantly from multithreading due to inherent sequential dependencies.\n",
    "2. Multithreading introduces additional overhead, such as the cost of context switching between threads. In some cases, the overhead may outweigh the benefits, especially for CPU-bound tasks.\n",
    "3. Concurrent access to shared data without proper synchronization can lead to data corruption or inconsistency. "
   ]
  },
  {
   "cell_type": "markdown",
   "id": "b2745155-5eb0-45bb-860d-8bbcc97991a8",
   "metadata": {},
   "source": [
    "### Q.6 Explain deadlocks and race conditions."
   ]
  },
  {
   "cell_type": "markdown",
   "id": "fb61d0e0-9eb9-49a7-a271-e7ef359722a3",
   "metadata": {},
   "source": [
    "##### Deadlock\n",
    "Deadlock is a situation in which waiting for something which can't get. Suppose I have a two programe & In which Programe 1 wants result of programe 2 to perform their task and Programe 2  wants result of programe 1 to perform their task. In this situation both programe are waiting for the result of each other for performing there task. This creats a deadlock situation.\n",
    "\n",
    "#### Race Condition\n",
    "Suppose I have a shared variable in which its value is updating by multiple programe but the problem is that,None of the programe know whats the value was last time and which programe updated its value last time. this creats the race condition situation. To avoid race condition situation we can add communication feature in the programe, so they can know who updated last time and what was the value last time."
   ]
  }
 ],
 "metadata": {
  "kernelspec": {
   "display_name": "Python 3 (ipykernel)",
   "language": "python",
   "name": "python3"
  },
  "language_info": {
   "codemirror_mode": {
    "name": "ipython",
    "version": 3
   },
   "file_extension": ".py",
   "mimetype": "text/x-python",
   "name": "python",
   "nbconvert_exporter": "python",
   "pygments_lexer": "ipython3",
   "version": "3.10.8"
  }
 },
 "nbformat": 4,
 "nbformat_minor": 5
}
